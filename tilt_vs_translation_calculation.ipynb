{
 "cells": [
  {
   "cell_type": "markdown",
   "id": "64f8458a-8b10-49c6-b3ac-188c378ba7b5",
   "metadata": {},
   "source": [
    "# Calculate equivalent translational acceleration for a given tilt"
   ]
  },
  {
   "cell_type": "code",
   "execution_count": 1,
   "id": "636456df-d41a-4a66-a7c1-f3c47ef2cb70",
   "metadata": {},
   "outputs": [],
   "source": [
    "import numpy as np"
   ]
  },
  {
   "cell_type": "code",
   "execution_count": 7,
   "id": "b56c04c6-6b3a-4b36-ac9f-2173fdcef5e7",
   "metadata": {},
   "outputs": [],
   "source": [
    "g = 9.8\n",
    "tilt = 1e-6\n",
    "a = g*tilt"
   ]
  },
  {
   "cell_type": "code",
   "execution_count": 9,
   "id": "20391317-740b-490d-b13e-defc681f73dd",
   "metadata": {},
   "outputs": [
    {
     "data": {
      "text/plain": [
       "0.001"
      ]
     },
     "execution_count": 9,
     "metadata": {},
     "output_type": "execute_result"
    }
   ],
   "source": [
    "tilt*1000"
   ]
  },
  {
   "cell_type": "code",
   "execution_count": 11,
   "id": "8c5d99ec-e85a-45d6-b896-c0e4117468e2",
   "metadata": {},
   "outputs": [],
   "source": [
    "## Station SJAK\n",
    "# SJAK had a Trillium compact and IG AppliedGeomech tiltmeter\n",
    "# Trillium does 749V*s/m and RT130 does 6.291456E+5 counts/volt (6.291456E+5*749)= 4.7123e+008\n",
    "GIscale_factor = 1000 # microradian / V = 1 microradian per milivolt\n",
    "atod=(1/(6.291456E+5)) # volts / count;\n",
    "GI_tilt_calib = GIscale_factor*atod\n",
    "## SJON STATION\n",
    "NMTscale_factor = .5 # deg / volt\n",
    "NMT_tilt_calib = NMTscale_factor*atod*2*np.pi/360*1e6"
   ]
  },
  {
   "cell_type": "code",
   "execution_count": 14,
   "id": "35060a6b-bb6d-42d7-8b07-a808ea1bf55f",
   "metadata": {},
   "outputs": [
    {
     "data": {
      "text/plain": [
       "8.726646259971647"
      ]
     },
     "execution_count": 14,
     "metadata": {},
     "output_type": "execute_result"
    }
   ],
   "source": [
    "NMT_tilt_calib/GI_tilt_calib"
   ]
  },
  {
   "cell_type": "code",
   "execution_count": 15,
   "id": "55048cac-47e9-450c-8d86-dab96659f9ef",
   "metadata": {},
   "outputs": [
    {
     "data": {
      "text/plain": [
       "629145.6"
      ]
     },
     "execution_count": 15,
     "metadata": {},
     "output_type": "execute_result"
    }
   ],
   "source": [
    "1/atod"
   ]
  },
  {
   "cell_type": "code",
   "execution_count": null,
   "id": "5da084a0-837c-4b8e-915c-544a3522e9dd",
   "metadata": {},
   "outputs": [],
   "source": []
  }
 ],
 "metadata": {
  "kernelspec": {
   "display_name": "Python 3 (ipykernel)",
   "language": "python",
   "name": "python3"
  },
  "language_info": {
   "codemirror_mode": {
    "name": "ipython",
    "version": 3
   },
   "file_extension": ".py",
   "mimetype": "text/x-python",
   "name": "python",
   "nbconvert_exporter": "python",
   "pygments_lexer": "ipython3",
   "version": "3.12.2"
  }
 },
 "nbformat": 4,
 "nbformat_minor": 5
}
